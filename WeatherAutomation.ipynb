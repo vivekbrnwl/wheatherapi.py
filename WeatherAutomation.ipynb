{
 "cells": [
  {
   "cell_type": "code",
   "execution_count": 192,
   "metadata": {},
   "outputs": [
    {
     "name": "stdout",
     "output_type": "stream",
     "text": [
      "1.Is the response contains 4 days of data\n",
      "\n",
      "Result:\n",
      "Pass\n"
     ]
    }
   ],
   "source": [
    "import json, requests, sys\n",
    "from datetime import datetime\n",
    "\n",
    "#JSON data from OpenWeatherMap.org's API.\n",
    "url ='https://samples.openweathermap.org/data/2.5/forecast/hourly?q=London,us&appid=b6907d289e10d714a6e88b30761fae22'\n",
    "response = requests.get(url)\n",
    "x = response.json()\n",
    "y = x[\"list\"]\n",
    "response.raise_for_status()\n",
    "# Load JSON data into a Python variable.\n",
    "weatherData = json.loads(response.text)\n",
    "# Print weather descriptions.\n",
    "w = weatherData['list']\n",
    "\n",
    "print(\"1.Is the response contains 4 days of data\")\n",
    "print()\n",
    "\n",
    "days = []\n",
    "\n",
    "for obj in w:\n",
    "    date = obj['dt_txt']\n",
    "    day = '{}{}'.format(date[8],date[9])\n",
    "    if day not in days:\n",
    "        days.append(day)\n",
    "        \n",
    "print(\"Result:\")\n",
    "if len(days) >= 4:\n",
    "    print('Pass')\n",
    "else:\n",
    "    print('Fail')\n"
   ]
  },
  {
   "cell_type": "code",
   "execution_count": 193,
   "metadata": {},
   "outputs": [
    {
     "name": "stdout",
     "output_type": "stream",
     "text": [
      "2.Is all the forecast in the hourly interval ( no hour should be missed )\n",
      "\n",
      "Result:\n",
      "Pass\n"
     ]
    }
   ],
   "source": [
    "import json, requests, sys\n",
    "from datetime import datetime\n",
    "\n",
    "#JSON data from OpenWeatherMap.org's API.\n",
    "url ='https://samples.openweathermap.org/data/2.5/forecast/hourly?q=London,us&appid=b6907d289e10d714a6e88b30761fae22'\n",
    "response = requests.get(url)\n",
    "x = response.json()\n",
    "y = x[\"list\"]\n",
    "response.raise_for_status()\n",
    "# Load JSON data into a Python variable.\n",
    "weatherData = json.loads(response.text)\n",
    "# Print weather descriptions.\n",
    "w = weatherData['list']\n",
    "\n",
    "print(\"2.Is all the forecast in the hourly interval ( no hour should be missed )\\n\")\n",
    "\n",
    "date = w[0]['dt_txt']\n",
    "hour = '{}{}'.format(date[11], date[12])\n",
    "\n",
    "result = True\n",
    "\n",
    "for obj in w[1:]:\n",
    "    date = obj['dt_txt']\n",
    "    hours = '{}{}'.format(date[11], date[12])\n",
    "    hour = int(hour)\n",
    "    hours = int(hours)\n",
    "    hour += 1\n",
    "    if hour == 24:\n",
    "        hour = 0\n",
    "        if hour != hours:\n",
    "            result = False\n",
    "    elif hour != hours:\n",
    "        result = False\n",
    "\n",
    "print(\"Result:\")        \n",
    "if result:\n",
    "    print('Pass')\n",
    "else:\n",
    "    print('Fail')"
   ]
  },
  {
   "cell_type": "code",
   "execution_count": 184,
   "metadata": {},
   "outputs": [
    {
     "name": "stdout",
     "output_type": "stream",
     "text": [
      "3. For all 4 days, the temp should not be less than temp_min and not more than temp_max\n",
      "\n",
      "\n",
      "Result:\n",
      "Pass 96\n",
      "Fail 0\n"
     ]
    }
   ],
   "source": [
    "import json, requests, sys\n",
    "\n",
    "#JSON data from OpenWeatherMap.org's API.\n",
    "url ='https://samples.openweathermap.org/data/2.5/forecast/hourly?q=London,us&appid=b6907d289e10d714a6e88b30761fae22'\n",
    "response = requests.get(url)\n",
    "x = response.json()\n",
    "y = x[\"list\"]\n",
    "response.raise_for_status()\n",
    "# Load JSON data into a Python variable.\n",
    "weatherData = json.loads(response.text)\n",
    "# Print weather descriptions.\n",
    "w = weatherData['list']\n",
    "# Print data\n",
    "#print(list.main.temp_min)\n",
    "#print((w[0]['main']['temp']))\n",
    "print(\"3. For all 4 days, the temp should not be less than temp_min and not more than temp_max\")\n",
    "print()\n",
    "count_fail_3 = 0\n",
    "count_pass_3 = 0\n",
    "for i in range(len(w)):\n",
    "    if (w[i]['main']['temp']) >= (w[i]['main']['temp_min']) and (w[i]['main']['temp']) <= (w[i]['main']['temp_max']):\n",
    "        #print('{} Pass'.format(w[i]['dt_txt']))\n",
    "        count_pass_3 += 1\n",
    "    else:\n",
    "        #print('{} Fail'.format(w[i]['dt_txt']))\n",
    "        count_fail_3 += 1\n",
    "        \n",
    "print()\n",
    "print(\"Result:\")\n",
    "print(\"Pass \"+str(count_pass_3))\n",
    "print(\"Fail \"+str(count_fail_3))"
   ]
  },
  {
   "cell_type": "code",
   "execution_count": 189,
   "metadata": {},
   "outputs": [
    {
     "name": "stdout",
     "output_type": "stream",
     "text": [
      "4. If the weather id is 500, the description should be light rain\n",
      "\n",
      "\n",
      "Result:\n",
      "Pass 8\n",
      "Fail 88\n"
     ]
    }
   ],
   "source": [
    "import json, requests, sys\n",
    "\n",
    "#JSON data from OpenWeatherMap.org's API.\n",
    "url ='https://samples.openweathermap.org/data/2.5/forecast/hourly?q=London,us&appid=b6907d289e10d714a6e88b30761fae22'\n",
    "response = requests.get(url)\n",
    "x = response.json()\n",
    "y = x[\"list\"]\n",
    "response.raise_for_status()\n",
    "# Load JSON data into a Python variable.\n",
    "weatherData = json.loads(response.text)\n",
    "# Print weather descriptions.\n",
    "w = weatherData['list']\n",
    "#print('Current weather in %s:' % (location))\n",
    "\n",
    "#for (var j; < list.length; j++){\n",
    "#for i in range(list.length):\n",
    "#print(w[0]['weather'][0]['main'], '-', w[0]['weather'][0]['description'])\n",
    "print(\"4. If the weather id is 500, the description should be light rain\")\n",
    "print()\n",
    "count_fail_4 = 0\n",
    "count_pass_4 = 0\n",
    "for i in range(len(w)):\n",
    "    if w[i]['weather'][0]['id'] == 500 and w[i]['weather'][0]['description'] == 'light rain':\n",
    "        #print('{} Pass'.format(w[i]['dt_txt']))\n",
    "        count_pass_4 += 1\n",
    "    else:\n",
    "        #print('{} Fail'.format(w[i]['dt_txt']))\n",
    "        count_fail_4 += 1\n",
    "        \n",
    "print()\n",
    "print(\"Result:\")\n",
    "print(\"Pass \"+str(count_pass_4))\n",
    "print(\"Fail \"+str(count_fail_4))"
   ]
  },
  {
   "cell_type": "code",
   "execution_count": 191,
   "metadata": {},
   "outputs": [
    {
     "name": "stdout",
     "output_type": "stream",
     "text": [
      "5. If the weather id is 800, the description should be a clear sky\n",
      "\n",
      "\n",
      "Result:\n",
      "Pass 71\n",
      "Fail 25\n"
     ]
    }
   ],
   "source": [
    "import json, requests, sys\n",
    "\n",
    "#JSON data from OpenWeatherMap.org's API.\n",
    "url ='https://samples.openweathermap.org/data/2.5/forecast/hourly?q=London,us&appid=b6907d289e10d714a6e88b30761fae22'\n",
    "response = requests.get(url)\n",
    "x = response.json()\n",
    "y = x[\"list\"]\n",
    "response.raise_for_status()\n",
    "# Load JSON data into a Python variable.\n",
    "weatherData = json.loads(response.text)\n",
    "# Print weather descriptions.\n",
    "w = weatherData['list']\n",
    "#print(w[0]['weather'][0]['main'], '-', w[0]['weather'][0]['description'])\n",
    "print(\"5. If the weather id is 800, the description should be a clear sky\")\n",
    "print()\n",
    "count_fail_5 = 0\n",
    "count_pass_5 = 0\n",
    "for i in range(len(w)):\n",
    "    if w[i]['weather'][0]['id'] == 800 and w[i]['weather'][0]['description'] == 'clear sky':\n",
    "        #print('{} Pass'.format(w[i]['dt_txt']))\n",
    "        count_pass_5 += 1\n",
    "    else:\n",
    "        #print('{} Fail'.format(w[i]['dt_txt']))\n",
    "        count_fail_5 += 1\n",
    "        \n",
    "print()\n",
    "print(\"Result:\")\n",
    "print(\"Pass \"+str(count_pass_5))\n",
    "print(\"Fail \"+str(count_fail_5))"
   ]
  },
  {
   "cell_type": "code",
   "execution_count": null,
   "metadata": {},
   "outputs": [],
   "source": []
  }
 ],
 "metadata": {
  "kernelspec": {
   "display_name": "Python 3",
   "language": "python",
   "name": "python3"
  },
  "language_info": {
   "codemirror_mode": {
    "name": "ipython",
    "version": 3
   },
   "file_extension": ".py",
   "mimetype": "text/x-python",
   "name": "python",
   "nbconvert_exporter": "python",
   "pygments_lexer": "ipython3",
   "version": "3.7.6"
  }
 },
 "nbformat": 4,
 "nbformat_minor": 4
}
